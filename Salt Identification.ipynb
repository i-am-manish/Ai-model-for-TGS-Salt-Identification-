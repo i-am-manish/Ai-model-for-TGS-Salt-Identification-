{
  "cells": [
    {
      "metadata": {
        "_uuid": "8f2839f25d086af736a60e9eeb907d3b93b6e0e5",
        "_cell_guid": "b1076dfc-b9ad-4769-8c92-a6c4dae69d19",
        "trusted": true,
        "scrolled": false,
        "collapsed": true
      },
      "cell_type": "code",
      "source": "import numpy as np\nimport cv2\nfrom tqdm import tqdm #Progress bar\nimport os\nTRAIN_IMAGE_DIR = '../input/train/images/' #img_id is x(input)\nTRAIN_MASK_DIR = '../input/train/masks/'   #rle_mask is y(output)\nTEST_IMAGE_DIR = '../input/test/images/'\n\ntrain_d = os.listdir(TRAIN_IMAGE_DIR) ",
      "execution_count": 1,
      "outputs": []
    },
    {
      "metadata": {
        "trusted": true,
        "_uuid": "45923ae892c8b53531c0ba262290b1b1721a9ab7"
      },
      "cell_type": "code",
      "source": "x = [np.array(cv2.imread(TRAIN_IMAGE_DIR + p, cv2.IMREAD_GRAYSCALE), dtype=np.uint8) for p in tqdm(train_d)] #cv2.imread=openCV image read\nx = np.array(x)/255\n\ny = [np.array(cv2.imread(TRAIN_MASK_DIR + p, cv2.IMREAD_GRAYSCALE), dtype=np.uint8) for p in tqdm(train_d)]\ny = np.array(y)/255\nprint(x.shape,y.shape)",
      "execution_count": 2,
      "outputs": [
        {
          "output_type": "stream",
          "text": "100%|██████████| 4000/4000 [00:04<00:00, 815.33it/s]\n100%|██████████| 4000/4000 [00:03<00:00, 1117.70it/s]\n",
          "name": "stderr"
        },
        {
          "output_type": "stream",
          "text": "(4000, 101, 101) (4000, 101, 101)\n",
          "name": "stdout"
        }
      ]
    },
    {
      "metadata": {
        "trusted": true,
        "_uuid": "8e2e7c9d0bd2f3a4c315b5605fff943d1229084b"
      },
      "cell_type": "code",
      "source": "x=np.expand_dims(x,axis=3) #EXPAND DIM OF X AND INSERT NEW AXIS @ 3 \ny=np.expand_dims(y,axis=3)\nprint(x.shape,y.shape)",
      "execution_count": 3,
      "outputs": [
        {
          "output_type": "stream",
          "text": "(4000, 101, 101, 1) (4000, 101, 101, 1)\n",
          "name": "stdout"
        }
      ]
    },
    {
      "metadata": {
        "trusted": true,
        "_uuid": "22b0c6b5e35da90720ef2224500df4dd493a7f26"
      },
      "cell_type": "code",
      "source": "from keras.layers import MaxPooling2D,Conv2D,Dense,Dropout,Input,Conv2DTranspose,Concatenate\nfrom keras.models import Sequential,Model\ndef conv_block(num_layers,inp,units,kernel_size):\n    x = input\n    for l in range(num_layers): #repeat 32-24-16 ----4 times\n        x = Conv2D(units, kernel_size=kernel_size,padding='SAME',activation='relu')(x)\n    return x\ninput = Input(shape=(101,101,1))\ncnn1 = conv_block(4,input,32,3)\ncnn2 = conv_block(4,input,24,5)\ncnn3 = conv_block(4,input,16,7)\nconcat = Concatenate()([cnn1,cnn2,cnn3])\nd1 = Conv2D(16,1,activation='relu')(concat)\nout = Conv2D(1,1,activation='sigmoid')(d1) #filter_size = 1 ,so that 1x1 filter will scan over for more learning\n\nmodel = Model(inputs=[input], outputs=[out])\nmodel.compile(loss=\"binary_crossentropy\",optimizer=\"adam\",metrics=[\"accuracy\"])\nmodel.summary() # start_dim=(101,101,1) == #end_dim=(101,101,1)",
      "execution_count": 4,
      "outputs": [
        {
          "output_type": "stream",
          "text": "/opt/conda/lib/python3.6/site-packages/h5py/__init__.py:36: FutureWarning: Conversion of the second argument of issubdtype from `float` to `np.floating` is deprecated. In future, it will be treated as `np.float64 == np.dtype(float).type`.\n  from ._conv import register_converters as _register_converters\nUsing TensorFlow backend.\n",
          "name": "stderr"
        },
        {
          "output_type": "stream",
          "text": "__________________________________________________________________________________________________\nLayer (type)                    Output Shape         Param #     Connected to                     \n==================================================================================================\ninput_1 (InputLayer)            (None, 101, 101, 1)  0                                            \n__________________________________________________________________________________________________\nconv2d_1 (Conv2D)               (None, 101, 101, 32) 320         input_1[0][0]                    \n__________________________________________________________________________________________________\nconv2d_5 (Conv2D)               (None, 101, 101, 24) 624         input_1[0][0]                    \n__________________________________________________________________________________________________\nconv2d_9 (Conv2D)               (None, 101, 101, 16) 800         input_1[0][0]                    \n__________________________________________________________________________________________________\nconv2d_2 (Conv2D)               (None, 101, 101, 32) 9248        conv2d_1[0][0]                   \n__________________________________________________________________________________________________\nconv2d_6 (Conv2D)               (None, 101, 101, 24) 14424       conv2d_5[0][0]                   \n__________________________________________________________________________________________________\nconv2d_10 (Conv2D)              (None, 101, 101, 16) 12560       conv2d_9[0][0]                   \n__________________________________________________________________________________________________\nconv2d_3 (Conv2D)               (None, 101, 101, 32) 9248        conv2d_2[0][0]                   \n__________________________________________________________________________________________________\nconv2d_7 (Conv2D)               (None, 101, 101, 24) 14424       conv2d_6[0][0]                   \n__________________________________________________________________________________________________\nconv2d_11 (Conv2D)              (None, 101, 101, 16) 12560       conv2d_10[0][0]                  \n__________________________________________________________________________________________________\nconv2d_4 (Conv2D)               (None, 101, 101, 32) 9248        conv2d_3[0][0]                   \n__________________________________________________________________________________________________\nconv2d_8 (Conv2D)               (None, 101, 101, 24) 14424       conv2d_7[0][0]                   \n__________________________________________________________________________________________________\nconv2d_12 (Conv2D)              (None, 101, 101, 16) 12560       conv2d_11[0][0]                  \n__________________________________________________________________________________________________\nconcatenate_1 (Concatenate)     (None, 101, 101, 72) 0           conv2d_4[0][0]                   \n                                                                 conv2d_8[0][0]                   \n                                                                 conv2d_12[0][0]                  \n__________________________________________________________________________________________________\nconv2d_13 (Conv2D)              (None, 101, 101, 16) 1168        concatenate_1[0][0]              \n__________________________________________________________________________________________________\nconv2d_14 (Conv2D)              (None, 101, 101, 1)  17          conv2d_13[0][0]                  \n==================================================================================================\nTotal params: 111,625\nTrainable params: 111,625\nNon-trainable params: 0\n__________________________________________________________________________________________________\n",
          "name": "stdout"
        }
      ]
    },
    {
      "metadata": {
        "trusted": true,
        "_uuid": "19cc3338c1d337414d9a864355f3001475bb229a"
      },
      "cell_type": "code",
      "source": "model.fit(x,y,epochs=50,batch_size=200,validation_split=0.2,verbose=1)",
      "execution_count": 5,
      "outputs": [
        {
          "output_type": "stream",
          "text": "Train on 3200 samples, validate on 800 samples\nEpoch 1/50\n3200/3200 [==============================] - 26s 8ms/step - loss: 0.6015 - acc: 0.7226 - val_loss: 0.5650 - val_acc: 0.7532\nEpoch 2/50\n3200/3200 [==============================] - 19s 6ms/step - loss: 0.5619 - acc: 0.7517 - val_loss: 0.5434 - val_acc: 0.7532\nEpoch 3/50\n3200/3200 [==============================] - 19s 6ms/step - loss: 0.5270 - acc: 0.7517 - val_loss: 0.5109 - val_acc: 0.7532\nEpoch 4/50\n3200/3200 [==============================] - 19s 6ms/step - loss: 0.4983 - acc: 0.7517 - val_loss: 0.4868 - val_acc: 0.7532\nEpoch 5/50\n3200/3200 [==============================] - 19s 6ms/step - loss: 0.4838 - acc: 0.7517 - val_loss: 0.4599 - val_acc: 0.7532\nEpoch 6/50\n3200/3200 [==============================] - 19s 6ms/step - loss: 0.4662 - acc: 0.7694 - val_loss: 0.4722 - val_acc: 0.8145\nEpoch 7/50\n3200/3200 [==============================] - 19s 6ms/step - loss: 0.4583 - acc: 0.8005 - val_loss: 0.4204 - val_acc: 0.8219\nEpoch 8/50\n3200/3200 [==============================] - 19s 6ms/step - loss: 0.4428 - acc: 0.8083 - val_loss: 0.4484 - val_acc: 0.7944\nEpoch 9/50\n3200/3200 [==============================] - 19s 6ms/step - loss: 0.4277 - acc: 0.8190 - val_loss: 0.4011 - val_acc: 0.8358\nEpoch 10/50\n3200/3200 [==============================] - 19s 6ms/step - loss: 0.4142 - acc: 0.8276 - val_loss: 0.3985 - val_acc: 0.8309\nEpoch 11/50\n3200/3200 [==============================] - 19s 6ms/step - loss: 0.4093 - acc: 0.8281 - val_loss: 0.4038 - val_acc: 0.8284\nEpoch 12/50\n3200/3200 [==============================] - 19s 6ms/step - loss: 0.4064 - acc: 0.8284 - val_loss: 0.3894 - val_acc: 0.8374\nEpoch 13/50\n3200/3200 [==============================] - 19s 6ms/step - loss: 0.4277 - acc: 0.8127 - val_loss: 0.4622 - val_acc: 0.7824\nEpoch 14/50\n3200/3200 [==============================] - 19s 6ms/step - loss: 0.4137 - acc: 0.8224 - val_loss: 0.4140 - val_acc: 0.8213\nEpoch 15/50\n3200/3200 [==============================] - 19s 6ms/step - loss: 0.4133 - acc: 0.8227 - val_loss: 0.4356 - val_acc: 0.7956\nEpoch 16/50\n3200/3200 [==============================] - 19s 6ms/step - loss: 0.4177 - acc: 0.8170 - val_loss: 0.3911 - val_acc: 0.8392\nEpoch 17/50\n3200/3200 [==============================] - 19s 6ms/step - loss: 0.4003 - acc: 0.8317 - val_loss: 0.3812 - val_acc: 0.8402\nEpoch 18/50\n3200/3200 [==============================] - 19s 6ms/step - loss: 0.3967 - acc: 0.8317 - val_loss: 0.3735 - val_acc: 0.8506\nEpoch 19/50\n3200/3200 [==============================] - 19s 6ms/step - loss: 0.3966 - acc: 0.8315 - val_loss: 0.3827 - val_acc: 0.8394\nEpoch 20/50\n3200/3200 [==============================] - 19s 6ms/step - loss: 0.3939 - acc: 0.8330 - val_loss: 0.3819 - val_acc: 0.8407\nEpoch 21/50\n3200/3200 [==============================] - 19s 6ms/step - loss: 0.3876 - acc: 0.8374 - val_loss: 0.3625 - val_acc: 0.8515\nEpoch 22/50\n3200/3200 [==============================] - 19s 6ms/step - loss: 0.3807 - acc: 0.8407 - val_loss: 0.3599 - val_acc: 0.8558\nEpoch 23/50\n3200/3200 [==============================] - 19s 6ms/step - loss: 0.3808 - acc: 0.8418 - val_loss: 0.3649 - val_acc: 0.8536\nEpoch 24/50\n3200/3200 [==============================] - 19s 6ms/step - loss: 0.3753 - acc: 0.8456 - val_loss: 0.3608 - val_acc: 0.8550\nEpoch 25/50\n3200/3200 [==============================] - 19s 6ms/step - loss: 0.3715 - acc: 0.8455 - val_loss: 0.3540 - val_acc: 0.8582\nEpoch 26/50\n3200/3200 [==============================] - 19s 6ms/step - loss: 0.3716 - acc: 0.8469 - val_loss: 0.3484 - val_acc: 0.8620\nEpoch 27/50\n3200/3200 [==============================] - 19s 6ms/step - loss: 0.3798 - acc: 0.8409 - val_loss: 0.3670 - val_acc: 0.8455\nEpoch 28/50\n3200/3200 [==============================] - 19s 6ms/step - loss: 0.3732 - acc: 0.8447 - val_loss: 0.3449 - val_acc: 0.8621\nEpoch 29/50\n3200/3200 [==============================] - 19s 6ms/step - loss: 0.3686 - acc: 0.8488 - val_loss: 0.3487 - val_acc: 0.8614\nEpoch 30/50\n3200/3200 [==============================] - 19s 6ms/step - loss: 0.3674 - acc: 0.8480 - val_loss: 0.3585 - val_acc: 0.8572\nEpoch 31/50\n3200/3200 [==============================] - 19s 6ms/step - loss: 0.3741 - acc: 0.8444 - val_loss: 0.3689 - val_acc: 0.8508\nEpoch 32/50\n3200/3200 [==============================] - 19s 6ms/step - loss: 0.3678 - acc: 0.8474 - val_loss: 0.3503 - val_acc: 0.8577\nEpoch 33/50\n3200/3200 [==============================] - 19s 6ms/step - loss: 0.3607 - acc: 0.8537 - val_loss: 0.3441 - val_acc: 0.8634\nEpoch 34/50\n3200/3200 [==============================] - 19s 6ms/step - loss: 0.3626 - acc: 0.8530 - val_loss: 0.3354 - val_acc: 0.8689\nEpoch 35/50\n3200/3200 [==============================] - 19s 6ms/step - loss: 0.3566 - acc: 0.8550 - val_loss: 0.3350 - val_acc: 0.8692\nEpoch 36/50\n3200/3200 [==============================] - 19s 6ms/step - loss: 0.3566 - acc: 0.8556 - val_loss: 0.3371 - val_acc: 0.8696\nEpoch 37/50\n3200/3200 [==============================] - 19s 6ms/step - loss: 0.3618 - acc: 0.8530 - val_loss: 0.3416 - val_acc: 0.8633\nEpoch 38/50\n3200/3200 [==============================] - 19s 6ms/step - loss: 0.3603 - acc: 0.8537 - val_loss: 0.3374 - val_acc: 0.8661\nEpoch 39/50\n3200/3200 [==============================] - 19s 6ms/step - loss: 0.3563 - acc: 0.8548 - val_loss: 0.3440 - val_acc: 0.8612\nEpoch 40/50\n3200/3200 [==============================] - 19s 6ms/step - loss: 0.3606 - acc: 0.8515 - val_loss: 0.3397 - val_acc: 0.8698\nEpoch 41/50\n3200/3200 [==============================] - 19s 6ms/step - loss: 0.3528 - acc: 0.8589 - val_loss: 0.3288 - val_acc: 0.8694\nEpoch 42/50\n3200/3200 [==============================] - 19s 6ms/step - loss: 0.3547 - acc: 0.8575 - val_loss: 0.3332 - val_acc: 0.8674\nEpoch 43/50\n3200/3200 [==============================] - 19s 6ms/step - loss: 0.3516 - acc: 0.8584 - val_loss: 0.3284 - val_acc: 0.8753\nEpoch 44/50\n3200/3200 [==============================] - 19s 6ms/step - loss: 0.3489 - acc: 0.8596 - val_loss: 0.3258 - val_acc: 0.8755\nEpoch 45/50\n3200/3200 [==============================] - 19s 6ms/step - loss: 0.3438 - acc: 0.8625 - val_loss: 0.3255 - val_acc: 0.8693\nEpoch 46/50\n3200/3200 [==============================] - 19s 6ms/step - loss: 0.3475 - acc: 0.8601 - val_loss: 0.3370 - val_acc: 0.8652\nEpoch 47/50\n3200/3200 [==============================] - 19s 6ms/step - loss: 0.3471 - acc: 0.8606 - val_loss: 0.3244 - val_acc: 0.8738\nEpoch 48/50\n3200/3200 [==============================] - 19s 6ms/step - loss: 0.3428 - acc: 0.8633 - val_loss: 0.3297 - val_acc: 0.8707\nEpoch 49/50\n3200/3200 [==============================] - 19s 6ms/step - loss: 0.3475 - acc: 0.8603 - val_loss: 0.3243 - val_acc: 0.8726\nEpoch 50/50\n3200/3200 [==============================] - 19s 6ms/step - loss: 0.3402 - acc: 0.8631 - val_loss: 0.3142 - val_acc: 0.8810\n",
          "name": "stdout"
        },
        {
          "output_type": "execute_result",
          "execution_count": 5,
          "data": {
            "text/plain": "<keras.callbacks.History at 0x7f8f8ad3b9b0>"
          },
          "metadata": {}
        }
      ]
    },
    {
      "metadata": {
        "trusted": true,
        "_uuid": "a1cfdb4872b4706d61a8c201d90519dae995a05f"
      },
      "cell_type": "code",
      "source": "#test_data\ntest_d=os.listdir(TEST_IMAGE_DIR)\n\nx_test = [np.array(cv2.imread(TEST_IMAGE_DIR + p, cv2.IMREAD_GRAYSCALE), dtype=np.uint8) for p in tqdm(test_d)]\nx_test = np.array(x_test)/255\nprint(x_test.shape)\nx_test = np.expand_dims(x_test,axis=3)\nprint(x_test.shape)",
      "execution_count": 6,
      "outputs": [
        {
          "output_type": "stream",
          "text": "100%|██████████| 18000/18000 [00:22<00:00, 811.47it/s]\n",
          "name": "stderr"
        },
        {
          "output_type": "stream",
          "text": "(18000, 101, 101)\n(18000, 101, 101, 1)\n",
          "name": "stdout"
        }
      ]
    },
    {
      "metadata": {
        "trusted": true,
        "_uuid": "7cbc9c8cf80e6742989de0207adf5c5e3818cd31"
      },
      "cell_type": "code",
      "source": "predict=model.predict(x_test,verbose=1)",
      "execution_count": 7,
      "outputs": [
        {
          "output_type": "stream",
          "text": "18000/18000 [==============================] - 39s 2ms/step\n",
          "name": "stdout"
        }
      ]
    },
    {
      "metadata": {
        "trusted": true,
        "_uuid": "52f38eeb3caaf76a164e640128a9e5a1071f06a7"
      },
      "cell_type": "code",
      "source": "#copy-pasted for rendering\ndef RLenc(img, order='F', format=True):\n    \"\"\"\n    img is binary mask image, shape (r,c)\n    order is down-then-right, i.e. Fortran\n    format determines if the order needs to be preformatted (according to submission rules) or not\n\n    returns run length as an array or string (if format is True)\n    \"\"\"\n    bytes = img.reshape(img.shape[0] * img.shape[1], order=order)\n    runs = []  ## list of run lengths\n    r = 0  ## the current run length\n    pos = 1  ## count starts from 1 per WK\n    for c in bytes:\n        if (c == 0):\n            if r != 0:\n                runs.append((pos, r))\n                pos += r\n                r = 0\n            pos += 1\n        else:\n            r += 1\n            \n    # if last run is unsaved (i.e. data ends with 1)\n    if r != 0:\n        runs.append((pos, r))\n        pos += r\n        r = 0\n\n    if format:\n        z = ''\n\n        for rr in runs:\n            z += '{} {} '.format(rr[0], rr[1])\n        return z[:-1]\n    else:\n        return runs\n\npred_dict = {fn[:-4]:RLenc(np.round(predict[i,:,:,0])) for i,fn in tqdm(enumerate(test_d))}",
      "execution_count": 8,
      "outputs": [
        {
          "output_type": "stream",
          "text": "18000it [06:45, 44.41it/s]\n",
          "name": "stderr"
        }
      ]
    },
    {
      "metadata": {
        "trusted": true,
        "_uuid": "a815403a60cd43ae858f6475090c0e47d8a38e99"
      },
      "cell_type": "code",
      "source": "import pandas as pd\nsub = pd.DataFrame.from_dict(pred_dict,orient='index')\nsub.index.names = ['id']\nsub.columns = ['rle_mask']\nsub.to_csv('submission.csv')\n",
      "execution_count": 14,
      "outputs": []
    },
    {
      "metadata": {
        "trusted": true,
        "collapsed": true,
        "_uuid": "36b024e23cc8ca96f35b23b03aceff1540d5d6ee"
      },
      "cell_type": "code",
      "source": "",
      "execution_count": null,
      "outputs": []
    }
  ],
  "metadata": {
    "kernelspec": {
      "display_name": "Python 3",
      "language": "python",
      "name": "python3"
    },
    "language_info": {
      "name": "python",
      "version": "3.6.4",
      "mimetype": "text/x-python",
      "codemirror_mode": {
        "name": "ipython",
        "version": 3
      },
      "pygments_lexer": "ipython3",
      "nbconvert_exporter": "python",
      "file_extension": ".py"
    }
  },
  "nbformat": 4,
  "nbformat_minor": 1
}